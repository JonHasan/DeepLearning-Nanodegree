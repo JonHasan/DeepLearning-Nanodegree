{
 "cells": [
  {
   "cell_type": "markdown",
   "metadata": {},
   "source": [
    "# Face Generation\n",
    "\n",
    "In this project, you'll define and train a DCGAN on a dataset of faces. Your goal is to get a generator network to generate *new* images of faces that look as realistic as possible!\n",
    "\n",
    "The project will be broken down into a series of tasks from **loading in data to defining and training adversarial networks**. At the end of the notebook, you'll be able to visualize the results of your trained Generator to see how it performs; your generated samples should look like fairly realistic faces with small amounts of noise.\n",
    "\n",
    "### Get the Data\n",
    "\n",
    "You'll be using the [CelebFaces Attributes Dataset (CelebA)](http://mmlab.ie.cuhk.edu.hk/projects/CelebA.html) to train your adversarial networks.\n",
    "\n",
    "This dataset is more complex than the number datasets (like MNIST or SVHN) you've been working with, and so, you should prepare to define deeper networks and train them for a longer time to get good results. It is suggested that you utilize a GPU for training.\n",
    "\n",
    "### Pre-processed Data\n",
    "\n",
    "Since the project's main focus is on building the GANs, we've done *some* of the pre-processing for you. Each of the CelebA images has been cropped to remove parts of the image that don't include a face, then resized down to 64x64x3 NumPy images. Some sample data is show below.\n",
    "\n",
    "<img src='assets/processed_face_data.png' width=60% />\n",
    "\n",
    "> If you are working locally, you can download this data [by clicking here](https://s3.amazonaws.com/video.udacity-data.com/topher/2018/November/5be7eb6f_processed-celeba-small/processed-celeba-small.zip)\n",
    "\n",
    "This is a zip file that you'll need to extract in the home directory of this notebook for further loading and processing. After extracting the data, you should be left with a directory of data `processed_celeba_small/`"
   ]
  },
  {
   "cell_type": "code",
   "execution_count": 24,
   "metadata": {},
   "outputs": [
    {
     "ename": "IndentationError",
     "evalue": "unexpected indent (<ipython-input-24-8f0281756aa3>, line 2)",
     "output_type": "error",
     "traceback": [
      "\u001b[0;36m  File \u001b[0;32m\"<ipython-input-24-8f0281756aa3>\"\u001b[0;36m, line \u001b[0;32m2\u001b[0m\n\u001b[0;31m    get_ipython().system('unzip processed_celeba_small.zip')\u001b[0m\n\u001b[0m    ^\u001b[0m\n\u001b[0;31mIndentationError\u001b[0m\u001b[0;31m:\u001b[0m unexpected indent\n"
     ]
    }
   ],
   "source": [
    "# can comment out after executing\n",
    " !unzip processed_celeba_small.zip"
   ]
  },
  {
   "cell_type": "code",
   "execution_count": 25,
   "metadata": {},
   "outputs": [],
   "source": [
    "data_dir = 'processed_celeba_small/'\n",
    "\n",
    "\"\"\"\n",
    "DON'T MODIFY ANYTHING IN THIS CELL\n",
    "\"\"\"\n",
    "import pickle as pkl\n",
    "import matplotlib.pyplot as plt\n",
    "import numpy as np\n",
    "import problem_unittests as tests\n",
    "#import helper\n",
    "\n",
    "%matplotlib inline"
   ]
  },
  {
   "cell_type": "markdown",
   "metadata": {},
   "source": [
    "## Visualize the CelebA Data\n",
    "\n",
    "The [CelebA](http://mmlab.ie.cuhk.edu.hk/projects/CelebA.html) dataset contains over 200,000 celebrity images with annotations. Since you're going to be generating faces, you won't need the annotations, you'll only need the images. Note that these are color images with [3 color channels (RGB)](https://en.wikipedia.org/wiki/Channel_(digital_image)#RGB_Images) each.\n",
    "\n",
    "### Pre-process and Load the Data\n",
    "\n",
    "Since the project's main focus is on building the GANs, we've done *some* of the pre-processing for you. Each of the CelebA images has been cropped to remove parts of the image that don't include a face, then resized down to 64x64x3 NumPy images. This *pre-processed* dataset is a smaller subset of the very large CelebA data.\n",
    "\n",
    "> There are a few other steps that you'll need to **transform** this data and create a **DataLoader**.\n",
    "\n",
    "#### Exercise: Complete the following `get_dataloader` function, such that it satisfies these requirements:\n",
    "\n",
    "* Your images should be square, Tensor images of size `image_size x image_size` in the x and y dimension.\n",
    "* Your function should return a DataLoader that shuffles and batches these Tensor images.\n",
    "\n",
    "#### ImageFolder\n",
    "\n",
    "To create a dataset given a directory of images, it's recommended that you use PyTorch's [ImageFolder](https://pytorch.org/docs/stable/torchvision/datasets.html#imagefolder) wrapper, with a root directory `processed_celeba_small/` and data transformation passed in."
   ]
  },
  {
   "cell_type": "code",
   "execution_count": 26,
   "metadata": {},
   "outputs": [],
   "source": [
    "# necessary imports\n",
    "import torch\n",
    "from torchvision import datasets\n",
    "from torchvision import transforms"
   ]
  },
  {
   "cell_type": "code",
   "execution_count": 27,
   "metadata": {},
   "outputs": [],
   "source": [
    "def get_dataloader(batch_size, image_size, data_dir='processed_celeba_small/'):\n",
    "    \"\"\"\n",
    "    Batch the neural network data using DataLoader\n",
    "    :param batch_size: The size of each batch; the number of images in a batch\n",
    "    :param img_size: The square size of the image data (x, y)\n",
    "    :param data_dir: Directory where image data is located\n",
    "    :return: DataLoader with batched data\n",
    "    \"\"\"\n",
    "    \n",
    "    # TODO: Implement function and return a dataloader\n",
    "    \n",
    "    transform = transforms.Compose([ transforms.Resize(image_size),  transforms.CenterCrop(image_size), transforms.ToTensor()\n",
    "                                   ])\n",
    "    images = datasets.ImageFolder(data_dir, transform = transform)\n",
    "    \n",
    "    images = torch.utils.data.DataLoader(images, batch_size)\n",
    "    \n",
    "    \n",
    "    return images\n"
   ]
  },
  {
   "cell_type": "markdown",
   "metadata": {},
   "source": [
    "## Create a DataLoader\n",
    "\n",
    "#### Exercise: Create a DataLoader `celeba_train_loader` with appropriate hyperparameters.\n",
    "\n",
    "Call the above function and create a dataloader to view images. \n",
    "* You can decide on any reasonable `batch_size` parameter\n",
    "* Your `image_size` **must be** `32`. Resizing the data to a smaller size will make for faster training, while still creating convincing images of faces!"
   ]
  },
  {
   "cell_type": "code",
   "execution_count": 28,
   "metadata": {},
   "outputs": [],
   "source": [
    "# Define function hyperparameters\n",
    "batch_size = 4\n",
    "img_size = 32\n",
    "\n",
    "\"\"\"\n",
    "DON'T MODIFY ANYTHING IN THIS CELL THAT IS BELOW THIS LINE\n",
    "\"\"\"\n",
    "# Call your function and get a dataloader\n",
    "celeba_train_loader = get_dataloader(batch_size, img_size)\n"
   ]
  },
  {
   "cell_type": "markdown",
   "metadata": {},
   "source": [
    "Next, you can view some images! You should seen square images of somewhat-centered faces.\n",
    "\n",
    "Note: You'll need to convert the Tensor images into a NumPy type and transpose the dimensions to correctly display an image, suggested `imshow` code is below, but it may not be perfect."
   ]
  },
  {
   "cell_type": "code",
   "execution_count": 29,
   "metadata": {},
   "outputs": [
    {
     "ename": "IndexError",
     "evalue": "index 4 is out of bounds for dimension 0 with size 4",
     "output_type": "error",
     "traceback": [
      "\u001b[0;31m---------------------------------------------------------------------------\u001b[0m",
      "\u001b[0;31mIndexError\u001b[0m                                Traceback (most recent call last)",
      "\u001b[0;32m<ipython-input-29-13b4d9c7a4be>\u001b[0m in \u001b[0;36m<module>\u001b[0;34m()\u001b[0m\n\u001b[1;32m     16\u001b[0m \u001b[0;32mfor\u001b[0m \u001b[0midx\u001b[0m \u001b[0;32min\u001b[0m \u001b[0mnp\u001b[0m\u001b[0;34m.\u001b[0m\u001b[0marange\u001b[0m\u001b[0;34m(\u001b[0m\u001b[0mplot_size\u001b[0m\u001b[0;34m)\u001b[0m\u001b[0;34m:\u001b[0m\u001b[0;34m\u001b[0m\u001b[0m\n\u001b[1;32m     17\u001b[0m     \u001b[0max\u001b[0m \u001b[0;34m=\u001b[0m \u001b[0mfig\u001b[0m\u001b[0;34m.\u001b[0m\u001b[0madd_subplot\u001b[0m\u001b[0;34m(\u001b[0m\u001b[0;36m2\u001b[0m\u001b[0;34m,\u001b[0m \u001b[0mplot_size\u001b[0m\u001b[0;34m/\u001b[0m\u001b[0;36m2\u001b[0m\u001b[0;34m,\u001b[0m \u001b[0midx\u001b[0m\u001b[0;34m+\u001b[0m\u001b[0;36m1\u001b[0m\u001b[0;34m,\u001b[0m \u001b[0mxticks\u001b[0m\u001b[0;34m=\u001b[0m\u001b[0;34m[\u001b[0m\u001b[0;34m]\u001b[0m\u001b[0;34m,\u001b[0m \u001b[0myticks\u001b[0m\u001b[0;34m=\u001b[0m\u001b[0;34m[\u001b[0m\u001b[0;34m]\u001b[0m\u001b[0;34m)\u001b[0m\u001b[0;34m\u001b[0m\u001b[0m\n\u001b[0;32m---> 18\u001b[0;31m     \u001b[0mimshow\u001b[0m\u001b[0;34m(\u001b[0m\u001b[0mimages\u001b[0m\u001b[0;34m[\u001b[0m\u001b[0midx\u001b[0m\u001b[0;34m]\u001b[0m\u001b[0;34m)\u001b[0m\u001b[0;34m\u001b[0m\u001b[0m\n\u001b[0m",
      "\u001b[0;31mIndexError\u001b[0m: index 4 is out of bounds for dimension 0 with size 4"
     ]
    },
    {
     "data": {
      "image/png": "[encoded data removed]",
      "text/plain": [
       "<matplotlib.figure.Figure at 0x7fe4ecc74f98>"
      ]
     },
     "metadata": {},
     "output_type": "display_data"
    }
   ],
   "source": [
    "# helper display function\n",
    "def imshow(img):\n",
    "    npimg = img.numpy()\n",
    "    plt.imshow(np.transpose(npimg, (1, 2, 0)))\n",
    "\n",
    "\"\"\"\n",
    "DON'T MODIFY ANYTHING IN THIS CELL THAT IS BELOW THIS LINE\n",
    "\"\"\"\n",
    "# obtain one batch of training images\n",
    "dataiter = iter(celeba_train_loader)\n",
    "images, _ = dataiter.next() # _ for no labels\n",
    "\n",
    "# plot the images in the batch, along with the corresponding labels\n",
    "fig = plt.figure(figsize=(20, 4))\n",
    "plot_size=20\n",
    "for idx in np.arange(plot_size):\n",
    "    ax = fig.add_subplot(2, plot_size/2, idx+1, xticks=[], yticks=[])\n",
    "    imshow(images[idx])"
   ]
  },
  {
   "cell_type": "markdown",
   "metadata": {},
   "source": [
    "#### Exercise: Pre-process your image data and scale it to a pixel range of -1 to 1\n",
    "\n",
    "You need to do a bit of pre-processing; you know that the output of a `tanh` activated generator will contain pixel values in a range from -1 to 1, and so, we need to rescale our training images to a range of -1 to 1. (Right now, they are in a range from 0-1.)"
   ]
  },
  {
   "cell_type": "code",
   "execution_count": 30,
   "metadata": {},
   "outputs": [
    {
     "name": "stdout",
     "output_type": "stream",
     "text": [
      "Min: tensor(1.00000e-02 *\n",
      "       2.3529)\n",
      "Max tensor(0.9725)\n"
     ]
    }
   ],
   "source": [
    "#current range\n",
    "\n",
    "img = images[0]\n",
    "\n",
    "print('Min:', img.min())\n",
    "print('Max', img.max())"
   ]
  },
  {
   "cell_type": "code",
   "execution_count": 31,
   "metadata": {},
   "outputs": [],
   "source": [
    "# TODO: Complete the scale function\n",
    "def scale(x, feature_range=(-1, 1)):\n",
    "    ''' Scale takes in an image x and returns that image, scaled\n",
    "       with a feature_range of pixel values from -1 to 1. \n",
    "       This function assumes that the input x is already scaled from 0-1.'''\n",
    "    # assume x is scaled to (0, 1)\n",
    "    # scale to feature_range and return scaled x\n",
    "    min, max = feature_range\n",
    "    x = x*(max - min) + min\n",
    "    \n",
    "    return x\n"
   ]
  },
  {
   "cell_type": "code",
   "execution_count": 32,
   "metadata": {},
   "outputs": [
    {
     "name": "stdout",
     "output_type": "stream",
     "text": [
      "Min:  tensor(-0.9529)\n",
      "Max:  tensor(0.9451)\n"
     ]
    }
   ],
   "source": [
    "\"\"\"\n",
    "DON'T MODIFY ANYTHING IN THIS CELL THAT IS BELOW THIS LINE\n",
    "\"\"\"\n",
    "# check scaled range\n",
    "# should be close to -1 to 1\n",
    "img = images[0]\n",
    "scaled_img = scale(img)\n",
    "\n",
    "print('Min: ', scaled_img.min())\n",
    "print('Max: ', scaled_img.max())"
   ]
  },
  {
   "cell_type": "markdown",
   "metadata": {},
   "source": [
    "---\n",
    "# Define the Model\n",
    "\n",
    "A GAN is comprised of two adversarial networks, a discriminator and a generator.\n",
    "\n",
    "## Discriminator\n",
    "\n",
    "Your first task will be to define the discriminator. This is a convolutional classifier like you've built before, only without any maxpooling layers. To deal with this complex data, it's suggested you use a deep network with **normalization**. You are also allowed to create any helper functions that may be useful.\n",
    "\n",
    "#### Exercise: Complete the Discriminator class\n",
    "* The inputs to the discriminator are 32x32x3 tensor images\n",
    "* The output should be a single value that will indicate whether a given image is real or fake\n"
   ]
  },
  {
   "cell_type": "code",
   "execution_count": 33,
   "metadata": {},
   "outputs": [],
   "source": [
    "import torch.nn as nn\n",
    "import torch.nn.functional as F"
   ]
  },
  {
   "cell_type": "code",
   "execution_count": 34,
   "metadata": {},
   "outputs": [],
   "source": [
    "#helper conv function\n",
    "\n",
    "def conv(in_channels, out_channels, kernel_size, stride =2 , padding=1, batch_norm = True):\n",
    "    '''\n",
    "    Creates a convolutional layer with optional normalization\n",
    "    '''\n",
    "    \n",
    "    layers = []\n",
    "    conv_layer = nn.Conv2d(in_channels, out_channels,\n",
    "                          kernel_size, stride, padding, bias = False)\n",
    "    \n",
    "    #append conv layer\n",
    "    layers.append(conv_layer)\n",
    "    \n",
    "    if batch_norm:\n",
    "        # append batchnorm layer\n",
    "        layers.append(nn.BatchNorm2d(out_channels))\n",
    "        \n",
    "    #using sequential container\n",
    "    return nn.Sequential(*layers)"
   ]
  },
  {
   "cell_type": "code",
   "execution_count": 35,
   "metadata": {},
   "outputs": [
    {
     "name": "stdout",
     "output_type": "stream",
     "text": [
      "Tests Passed\n"
     ]
    }
   ],
   "source": [
    "class Discriminator(nn.Module):\n",
    "\n",
    "    def __init__(self, conv_dim):\n",
    "        \"\"\"\n",
    "        Initialize the Discriminator Module\n",
    "        :param conv_dim: The depth of the first convolutional layer\n",
    "        \"\"\"\n",
    "        super(Discriminator, self).__init__()\n",
    "\n",
    "        # complete init function\n",
    "        \n",
    "        self.conv_dim = conv_dim\n",
    "        \n",
    "        \n",
    "        self.conv1 = conv(3, conv_dim, 4, batch_norm = False)\n",
    "        \n",
    "        self.conv2 = conv(conv_dim, conv_dim*2, 4)\n",
    "        \n",
    "        \n",
    "        self.conv3 = conv(conv_dim*2, conv_dim *4, 4) \n",
    "        \n",
    "       # self.conv4 = conv(conv_dim*4, conv_dim * 8, 4)\n",
    "        \n",
    "        self.fc4 = nn.Linear(conv_dim*4*4*4, 1)\n",
    "        \n",
    "        \n",
    "\n",
    "    def forward(self, x):\n",
    "        \"\"\"\n",
    "        Forward propagation of the neural network\n",
    "        :param x: The input to the neural network     \n",
    "        :return: Discriminator logits; the output of the neural network\n",
    "        \"\"\"\n",
    "        # define feedforward behavior\n",
    "        \n",
    "        x = F.leaky_relu(self.conv1(x), .2)\n",
    "        x = F.leaky_relu(self.conv2(x), .2)\n",
    "        x = F.leaky_relu(self.conv3(x), .2) \n",
    "       # x = F.leaky_relu(self.conv4(x), .2)\n",
    "        # flatten\n",
    "        \n",
    "        x = x.view(-1, self.conv_dim*4*4*4)\n",
    "        \n",
    "        #final output layer\n",
    "        x = self.fc4(x)\n",
    "        \n",
    "        \n",
    "        return x\n",
    "\n",
    "\n",
    "\"\"\"\n",
    "DON'T MODIFY ANYTHING IN THIS CELL THAT IS BELOW THIS LINE\n",
    "\"\"\"\n",
    "tests.test_discriminator(Discriminator)"
   ]
  },
  {
   "cell_type": "markdown",
   "metadata": {},
   "source": [
    "## Generator\n",
    "\n",
    "The generator should upsample an input and generate a *new* image of the same size as our training data `32x32x3`. This should be mostly transpose convolutional layers with normalization applied to the outputs.\n",
    "\n",
    "#### Exercise: Complete the Generator class\n",
    "* The inputs to the generator are vectors of some length `z_size`\n",
    "* The output should be a image of shape `32x32x3`"
   ]
  },
  {
   "cell_type": "code",
   "execution_count": 36,
   "metadata": {},
   "outputs": [],
   "source": [
    "def deconv(in_channels, out_channels, kernel_size, stride=2, padding=1, batch_norm = True):\n",
    "    '''\n",
    "    Creates a transposed-convolutional layer, with optional batch normalization\n",
    "    '''\n",
    "    \n",
    "    #create a sequence of transpose + optional batch norm layers\n",
    "    layers = []\n",
    "    transpose_conv_layer = nn.ConvTranspose2d(in_channels, out_channels,\n",
    "                                             kernel_size, stride, padding, bias = False)\n",
    "    \n",
    "    layers.append(transpose_conv_layer)\n",
    "    \n",
    "    if batch_norm:\n",
    "        #append batchnorm layer\n",
    "        layers.append(nn.BatchNorm2d(out_channels))\n",
    "        \n",
    "    return nn.Sequential(*layers)"
   ]
  },
  {
   "cell_type": "code",
   "execution_count": 37,
   "metadata": {},
   "outputs": [
    {
     "name": "stdout",
     "output_type": "stream",
     "text": [
      "Tests Passed\n"
     ]
    }
   ],
   "source": [
    "class Generator(nn.Module):\n",
    "    \n",
    "    def __init__(self, z_size, conv_dim):\n",
    "        \"\"\"\n",
    "        Initialize the Generator Module\n",
    "        :param z_size: The length of the input latent vector, z\n",
    "        :param conv_dim: The depth of the inputs to the *last* transpose convolutional layer\n",
    "        \"\"\"\n",
    "        super(Generator, self).__init__()\n",
    "\n",
    "        # complete init function\n",
    "        \n",
    "        self.conv_dim = conv_dim\n",
    "        \n",
    "        #first, fully-connected layer\n",
    "        self.fc1 = nn.Linear(z_size, conv_dim*4*4*4)\n",
    "        \n",
    "        #transpose conv layers\n",
    "        \n",
    "        self.t_conv1 = deconv(conv_dim*4, conv_dim*2, 4)\n",
    "        self.t_conv2 = deconv(conv_dim*2, conv_dim, 4)\n",
    "        self.t_conv3 = deconv(conv_dim, 3, 4, batch_norm = False )\n",
    "\n",
    "    def forward(self, x):\n",
    "        \"\"\"\n",
    "        Forward propagation of the neural network\n",
    "        :param x: The input to the neural network     \n",
    "        :return: A 32x32x3 Tensor image as output\n",
    "        \"\"\"\n",
    "        # define feedforward behavior\n",
    "        \n",
    "        out = self.fc1(x)\n",
    "        out = out.view(-1, self.conv_dim*4 ,4 , 4) # batch_size, depth, 4,4\n",
    "        \n",
    "        #hidden tranpose conv layers + relu\n",
    "        out = F.relu(self.t_conv1(out))\n",
    "        out = F.relu(self.t_conv2(out))\n",
    "        \n",
    "        #last layer + tanh activation\n",
    "        out = self.t_conv3(out)\n",
    "        out = F.tanh(out)\n",
    "        return out\n",
    "\n",
    "\"\"\"\n",
    "DON'T MODIFY ANYTHING IN THIS CELL THAT IS BELOW THIS LINE\n",
    "\"\"\"\n",
    "tests.test_generator(Generator)"
   ]
  },
  {
   "cell_type": "markdown",
   "metadata": {},
   "source": [
    "## Initialize the weights of your networks\n",
    "\n",
    "To help your models converge, you should initialize the weights of the convolutional and linear layers in your model. From reading the [original DCGAN paper](https://arxiv.org/pdf/1511.06434.pdf), they say:\n",
    "> All weights were initialized from a zero-centered Normal distribution with standard deviation 0.02.\n",
    "\n",
    "So, your next task will be to define a weight initialization function that does just this!\n",
    "\n",
    "You can refer back to the lesson on weight initialization or even consult existing model code, such as that from [the `networks.py` file in CycleGAN Github repository](https://github.com/junyanz/pytorch-CycleGAN-and-pix2pix/blob/master/models/networks.py) to help you complete this function.\n",
    "\n",
    "#### Exercise: Complete the weight initialization function\n",
    "\n",
    "* This should initialize only **convolutional** and **linear** layers\n",
    "* Initialize the weights to a normal distribution, centered around 0, with a standard deviation of 0.02.\n",
    "* The bias terms, if they exist, may be left alone or set to 0."
   ]
  },
  {
   "cell_type": "code",
   "execution_count": 38,
   "metadata": {},
   "outputs": [],
   "source": [
    "def weights_init_normal(m):\n",
    "    \"\"\"\n",
    "    Applies initial weights to certain layers in a model .\n",
    "    The weights are taken from a normal distribution \n",
    "    with mean = 0, std dev = 0.02.\n",
    "    :param m: A module or layer in a network    \n",
    "    \"\"\"\n",
    "    # classname will be something like:\n",
    "    # `Conv`, `BatchNorm2d`, `Linear`, etc.\n",
    "    classname = m.__class__.__name__\n",
    "    \n",
    "    n = 0\n",
    "    y = 0 \n",
    "    \n",
    "    # TODO: Apply initial weights to convolutional and linear layers\n",
    "    if hasattr(m, 'weight') and (classname.find('Conv') != -1 or classname.find('Linear') != -1):\n",
    "            m.weight.data.normal_(0,.2)\n",
    "       \n",
    "        \n",
    "            if hasattr(m, 'bias') and m.bias is not None:\n",
    "                m.bias.data.fill_(0)\n",
    "\n",
    "        \n",
    "\n",
    "    "
   ]
  },
  {
   "cell_type": "markdown",
   "metadata": {
    "collapsed": true
   },
   "source": [
    "## Build complete network\n",
    "\n",
    "Define your models' hyperparameters and instantiate the discriminator and generator from the classes defined above. Make sure you've passed in the correct input arguments."
   ]
  },
  {
   "cell_type": "code",
   "execution_count": 39,
   "metadata": {},
   "outputs": [],
   "source": [
    "\"\"\"\n",
    "DON'T MODIFY ANYTHING IN THIS CELL THAT IS BELOW THIS LINE\n",
    "\"\"\"\n",
    "def build_network(d_conv_dim, g_conv_dim, z_size):\n",
    "    # define discriminator and generator\n",
    "    D = Discriminator(d_conv_dim)\n",
    "    G = Generator(z_size=z_size, conv_dim=g_conv_dim)\n",
    "\n",
    "    # initialize model weights\n",
    "    D.apply(weights_init_normal)\n",
    "    G.apply(weights_init_normal)\n",
    "\n",
    "    print(D)\n",
    "    print()\n",
    "    print(G)\n",
    "    \n",
    "    return D, G\n"
   ]
  },
  {
   "cell_type": "markdown",
   "metadata": {},
   "source": [
    "#### Exercise: Define model hyperparameters"
   ]
  },
  {
   "cell_type": "code",
   "execution_count": 40,
   "metadata": {},
   "outputs": [
    {
     "name": "stdout",
     "output_type": "stream",
     "text": [
      "Discriminator(\n",
      "  (conv1): Sequential(\n",
      "    (0): Conv2d(3, 32, kernel_size=(4, 4), stride=(2, 2), padding=(1, 1), bias=False)\n",
      "  )\n",
      "  (conv2): Sequential(\n",
      "    (0): Conv2d(32, 64, kernel_size=(4, 4), stride=(2, 2), padding=(1, 1), bias=False)\n",
      "    (1): BatchNorm2d(64, eps=1e-05, momentum=0.1, affine=True, track_running_stats=True)\n",
      "  )\n",
      "  (conv3): Sequential(\n",
      "    (0): Conv2d(64, 128, kernel_size=(4, 4), stride=(2, 2), padding=(1, 1), bias=False)\n",
      "    (1): BatchNorm2d(128, eps=1e-05, momentum=0.1, affine=True, track_running_stats=True)\n",
      "  )\n",
      "  (fc4): Linear(in_features=2048, out_features=1, bias=True)\n",
      ")\n",
      "\n",
      "Generator(\n",
      "  (fc1): Linear(in_features=100, out_features=2048, bias=True)\n",
      "  (t_conv1): Sequential(\n",
      "    (0): ConvTranspose2d(128, 64, kernel_size=(4, 4), stride=(2, 2), padding=(1, 1), bias=False)\n",
      "    (1): BatchNorm2d(64, eps=1e-05, momentum=0.1, affine=True, track_running_stats=True)\n",
      "  )\n",
      "  (t_conv2): Sequential(\n",
      "    (0): ConvTranspose2d(64, 32, kernel_size=(4, 4), stride=(2, 2), padding=(1, 1), bias=False)\n",
      "    (1): BatchNorm2d(32, eps=1e-05, momentum=0.1, affine=True, track_running_stats=True)\n",
      "  )\n",
      "  (t_conv3): Sequential(\n",
      "    (0): ConvTranspose2d(32, 3, kernel_size=(4, 4), stride=(2, 2), padding=(1, 1), bias=False)\n",
      "  )\n",
      ")\n"
     ]
    }
   ],
   "source": [
    "# Define model hyperparams\n",
    "d_conv_dim = 32\n",
    "g_conv_dim = 32\n",
    "z_size = 100\n",
    "\n",
    "\"\"\"\n",
    "DON'T MODIFY ANYTHING IN THIS CELL THAT IS BELOW THIS LINE\n",
    "\"\"\"\n",
    "D, G = build_network(d_conv_dim, g_conv_dim, z_size)"
   ]
  },
  {
   "cell_type": "markdown",
   "metadata": {},
   "source": [
    "### Training on GPU\n",
    "\n",
    "Check if you can train on GPU. Here, we'll set this as a boolean variable `train_on_gpu`. Later, you'll be responsible for making sure that \n",
    ">* Models,\n",
    "* Model inputs, and\n",
    "* Loss function arguments\n",
    "\n",
    "Are moved to GPU, where appropriate."
   ]
  },
  {
   "cell_type": "code",
   "execution_count": 41,
   "metadata": {},
   "outputs": [
    {
     "name": "stdout",
     "output_type": "stream",
     "text": [
      "Training on GPU!\n"
     ]
    }
   ],
   "source": [
    "\"\"\"\n",
    "DON'T MODIFY ANYTHING IN THIS CELL\n",
    "\"\"\"\n",
    "import torch\n",
    "\n",
    "# Check for a GPU\n",
    "train_on_gpu = torch.cuda.is_available()\n",
    "if not train_on_gpu:\n",
    "    print('No GPU found. Please use a GPU to train your neural network.')\n",
    "else:\n",
    "    print('Training on GPU!')"
   ]
  },
  {
   "cell_type": "markdown",
   "metadata": {},
   "source": [
    "---\n",
    "## Discriminator and Generator Losses\n",
    "\n",
    "Now we need to calculate the losses for both types of adversarial networks.\n",
    "\n",
    "### Discriminator Losses\n",
    "\n",
    "> * For the discriminator, the total loss is the sum of the losses for real and fake images, `d_loss = d_real_loss + d_fake_loss`. \n",
    "* Remember that we want the discriminator to output 1 for real images and 0 for fake images, so we need to set up the losses to reflect that.\n",
    "\n",
    "\n",
    "### Generator Loss\n",
    "\n",
    "The generator loss will look similar only with flipped labels. The generator's goal is to get the discriminator to *think* its generated images are *real*.\n",
    "\n",
    "#### Exercise: Complete real and fake loss functions\n",
    "\n",
    "**You may choose to use either cross entropy or a least squares error loss to complete the following `real_loss` and `fake_loss` functions.**"
   ]
  },
  {
   "cell_type": "code",
   "execution_count": 42,
   "metadata": {},
   "outputs": [],
   "source": [
    "def real_loss(D_out, smooth = False):\n",
    "    '''Calculates how close discriminator outputs are to being real.\n",
    "       param, D_out: discriminator logits\n",
    "       return: real loss'''\n",
    "    batch_size = D_out.size(0)\n",
    "    \n",
    "    #label smoothing\n",
    "    \n",
    "    if smooth:\n",
    "        #smooth, real labels = .9\n",
    "        labels =torch.ones(batch_size)*.9\n",
    "    \n",
    "    else:\n",
    "        labels = torch.ones(batch_size)\n",
    "    \n",
    "    if train_on_gpu:\n",
    "        labels = labels.cuda()\n",
    "        \n",
    "    #binary cross entropy\n",
    "    criterion = nn.BCEWithLogitsLoss()\n",
    "    \n",
    "    loss = criterion(D_out.squeeze(), labels)\n",
    "    return loss\n",
    "\n",
    "def fake_loss(D_out):\n",
    "    '''Calculates how close discriminator outputs are to being fake.\n",
    "       param, D_out: discriminator logits\n",
    "       return: fake loss'''\n",
    "    batch_size = D_out.size(0)\n",
    "    labels = torch.zeros(batch_size)\n",
    "    \n",
    "    if train_on_gpu:\n",
    "        labels = labels.cuda()\n",
    "        \n",
    "    criterion = nn.BCEWithLogitsLoss()\n",
    "    \n",
    "    \n",
    "    loss = criterion(D_out.squeeze(), labels)\n",
    "    return loss"
   ]
  },
  {
   "cell_type": "code",
   "execution_count": 43,
   "metadata": {},
   "outputs": [],
   "source": [
    "def real_loss(D_out, smooth=False):\n",
    "    batch_size = D_out.size(0)\n",
    "    # label smoothing\n",
    "    if smooth:\n",
    "        # smooth, real labels = 0.9\n",
    "        labels = torch.ones(batch_size)*0.9\n",
    "    else:\n",
    "        labels = torch.ones(batch_size) # real labels = 1\n",
    "    # move labels to GPU if available     \n",
    "    if train_on_gpu:\n",
    "        labels = labels.cuda()\n",
    "    # binary cross entropy with logits loss\n",
    "    criterion = nn.BCEWithLogitsLoss()\n",
    "    # calculate loss\n",
    "    loss = criterion(D_out.squeeze(), labels)\n",
    "    return loss\n",
    "\n",
    "def fake_loss(D_out):\n",
    "    batch_size = D_out.size(0)\n",
    "    labels = torch.zeros(batch_size) # fake labels = 0\n",
    "    if train_on_gpu:\n",
    "        labels = labels.cuda()\n",
    "    criterion = nn.BCEWithLogitsLoss()\n",
    "    # calculate loss\n",
    "    loss = criterion(D_out.squeeze(), labels)\n",
    "    return loss"
   ]
  },
  {
   "cell_type": "markdown",
   "metadata": {},
   "source": [
    "## Optimizers\n",
    "\n",
    "#### Exercise: Define optimizers for your Discriminator (D) and Generator (G)\n",
    "\n",
    "Define optimizers for your models with appropriate hyperparameters."
   ]
  },
  {
   "cell_type": "code",
   "execution_count": 44,
   "metadata": {},
   "outputs": [],
   "source": [
    "import torch.optim as optim\n",
    "\n",
    "# Create optimizers for the discriminator D and generator G\n",
    "\n",
    "lr = .0002\n",
    "beta1 = 0.5\n",
    "beta2 = 0.999\n",
    "\n",
    "d_optimizer = optim.Adam(D.parameters(), lr, [beta1, beta2])\n",
    "g_optimizer = optim.Adam(G.parameters(), lr, [beta1, beta2])"
   ]
  },
  {
   "cell_type": "markdown",
   "metadata": {},
   "source": [
    "---\n",
    "## Training\n",
    "\n",
    "Training will involve alternating between training the discriminator and the generator. You'll use your functions `real_loss` and `fake_loss` to help you calculate the discriminator losses.\n",
    "\n",
    "* You should train the discriminator by alternating on real and fake images\n",
    "* Then the generator, which tries to trick the discriminator and should have an opposing loss function\n",
    "\n",
    "\n",
    "#### Saving Samples\n",
    "\n",
    "You've been given some code to print out some loss statistics and save some generated \"fake\" samples."
   ]
  },
  {
   "cell_type": "markdown",
   "metadata": {},
   "source": [
    "#### Exercise: Complete the training function\n",
    "\n",
    "Keep in mind that, if you've moved your models to GPU, you'll also have to move any model inputs to GPU."
   ]
  },
  {
   "cell_type": "code",
   "execution_count": 45,
   "metadata": {},
   "outputs": [],
   "source": [
    "def train(D, G, n_epochs, print_every=5000):\n",
    "    '''Trains adversarial networks for some number of epochs\n",
    "       param, D: the discriminator network\n",
    "       param, G: the generator network\n",
    "       param, n_epochs: number of epochs to train for\n",
    "       param, print_every: when to print and record the models' losses\n",
    "       return: D and G losses'''\n",
    "    \n",
    "    # move models to GPU\n",
    "    if train_on_gpu:\n",
    "        D.cuda()\n",
    "        G.cuda()\n",
    "\n",
    "    # keep track of loss and generated, \"fake\" samples\n",
    "    samples = []\n",
    "    losses = []\n",
    "\n",
    "    # Get some fixed data for sampling. These are images that are held\n",
    "    # constant throughout training, and allow us to inspect the model's performance\n",
    "    sample_size=16\n",
    "    fixed_z = np.random.uniform(-1, 1, size=(sample_size, z_size))\n",
    "    fixed_z = torch.from_numpy(fixed_z).float()\n",
    "    # move z to GPU if available\n",
    "    if train_on_gpu:\n",
    "        fixed_z = fixed_z.cuda()\n",
    "\n",
    "    # epoch training loop\n",
    "    for epoch in range(n_epochs):\n",
    "\n",
    "        # batch training loop\n",
    "        for batch_i, (real_images, _) in enumerate(celeba_train_loader):\n",
    "\n",
    "            batch_size = real_images.size(0)\n",
    "            real_images = scale(real_images)\n",
    "\n",
    "            # ===============================================\n",
    "            #         YOUR CODE HERE: TRAIN THE NETWORKS\n",
    "            # ===============================================\n",
    "            \n",
    "            d_optimizer.zero_grad()\n",
    "        \n",
    "            # 1. Train with real images\n",
    "\n",
    "            # Compute the discriminator losses on real images \n",
    "            if train_on_gpu:\n",
    "                real_images = real_images.cuda()\n",
    "\n",
    "            D_real = D(real_images)\n",
    "            d_real_loss = real_loss(D_real)\n",
    "\n",
    "            # 2. Train with fake images\n",
    "\n",
    "            # Generate fake images\n",
    "            z = np.random.uniform(-1, 1, size=(batch_size, z_size))\n",
    "            z = torch.from_numpy(z).float()\n",
    "            # move x to GPU, if available\n",
    "            if train_on_gpu:\n",
    "                z = z.cuda()\n",
    "            fake_images = G(z)\n",
    "\n",
    "            # Compute the discriminator losses on fake images            \n",
    "            D_fake = D(fake_images)\n",
    "            d_fake_loss = fake_loss(D_fake)\n",
    "\n",
    "            # add up loss and perform backprop\n",
    "            d_loss = d_real_loss + d_fake_loss\n",
    "            d_loss.backward()\n",
    "            d_optimizer.step()\n",
    "\n",
    "\n",
    "            # =========================================\n",
    "            #            TRAIN THE GENERATOR\n",
    "            # =========================================\n",
    "            g_optimizer.zero_grad()\n",
    "\n",
    "            # 1. Train with fake images and flipped labels\n",
    "\n",
    "            # Generate fake images\n",
    "            z = np.random.uniform(-1, 1, size=(batch_size, z_size))\n",
    "            z = torch.from_numpy(z).float()\n",
    "            if train_on_gpu:\n",
    "                z = z.cuda()\n",
    "            fake_images = G(z)\n",
    "\n",
    "            # Compute the discriminator losses on fake images \n",
    "            # using flipped labels!\n",
    "            D_fake = D(fake_images)\n",
    "            g_loss = real_loss(D_fake) # use real loss to flip labels\n",
    "\n",
    "            # perform backprop\n",
    "            g_loss.backward()\n",
    "            g_optimizer.step()\n",
    "\n",
    "            # ===============================================\n",
    "            #              END OF YOUR CODE\n",
    "            # ===============================================\n",
    "\n",
    "            # Print some loss stats\n",
    "            if batch_i % print_every == 0:\n",
    "                # append discriminator loss and generator loss\n",
    "                losses.append((d_loss.item(), g_loss.item()))\n",
    "                # print discriminator and generator loss\n",
    "                print('Epoch [{:5d}/{:5d}] | d_loss: {:6.4f} | g_loss: {:6.4f}'.format(\n",
    "                        epoch+1, n_epochs, d_loss.item(), g_loss.item()))\n",
    "\n",
    "\n",
    "        ## AFTER EACH EPOCH##    \n",
    "        # this code assumes your generator is named G, feel free to change the name\n",
    "        # generate and save sample, fake images\n",
    "        G.eval() # for generating samples\n",
    "        if train_on_gpu:\n",
    "            fixed_z = fixed_z.cuda()\n",
    "        samples_z = G(fixed_z)\n",
    "        samples.append(samples_z)\n",
    "        G.train() # back to training mode\n",
    "\n",
    "    # Save training generator samples\n",
    "    with open('train_samples.pkl', 'wb') as f:\n",
    "        pkl.dump(samples, f)\n",
    "    \n",
    "    # finally return losses\n",
    "    return losses"
   ]
  },
  {
   "cell_type": "markdown",
   "metadata": {},
   "source": [
    "Set your number of training epochs and train your GAN!"
   ]
  },
  {
   "cell_type": "code",
   "execution_count": 46,
   "metadata": {},
   "outputs": [
    {
     "name": "stdout",
     "output_type": "stream",
     "text": [
      "Epoch [    1/   30] | d_loss: 2.5630 | g_loss: 0.6170\n",
      "Epoch [    1/   30] | d_loss: 0.7828 | g_loss: 4.8333\n",
      "Epoch [    1/   30] | d_loss: 0.2222 | g_loss: 3.0990\n",
      "Epoch [    1/   30] | d_loss: 0.7271 | g_loss: 1.7989\n",
      "Epoch [    1/   30] | d_loss: 2.9006 | g_loss: 1.3010\n",
      "Epoch [    2/   30] | d_loss: 0.5568 | g_loss: 0.7202\n",
      "Epoch [    2/   30] | d_loss: 1.5910 | g_loss: 1.9874\n",
      "Epoch [    2/   30] | d_loss: 0.9679 | g_loss: 0.5869\n",
      "Epoch [    2/   30] | d_loss: 0.9370 | g_loss: 1.4821\n",
      "Epoch [    2/   30] | d_loss: 1.3761 | g_loss: 1.5177\n",
      "Epoch [    3/   30] | d_loss: 1.0064 | g_loss: 1.7715\n",
      "Epoch [    3/   30] | d_loss: 0.7207 | g_loss: 1.7408\n",
      "Epoch [    3/   30] | d_loss: 0.6459 | g_loss: 1.0154\n",
      "Epoch [    3/   30] | d_loss: 0.1889 | g_loss: 1.8634\n",
      "Epoch [    3/   30] | d_loss: 0.9816 | g_loss: 1.2673\n",
      "Epoch [    4/   30] | d_loss: 0.7916 | g_loss: 0.8613\n",
      "Epoch [    4/   30] | d_loss: 0.0380 | g_loss: 3.8572\n",
      "Epoch [    4/   30] | d_loss: 0.0674 | g_loss: 3.7100\n",
      "Epoch [    4/   30] | d_loss: 0.2137 | g_loss: 1.6420\n",
      "Epoch [    4/   30] | d_loss: 0.6937 | g_loss: 0.9601\n",
      "Epoch [    5/   30] | d_loss: 0.4248 | g_loss: 2.6661\n",
      "Epoch [    5/   30] | d_loss: 0.3127 | g_loss: 2.9462\n",
      "Epoch [    5/   30] | d_loss: 0.5503 | g_loss: 2.3362\n",
      "Epoch [    5/   30] | d_loss: 0.1027 | g_loss: 3.3993\n",
      "Epoch [    5/   30] | d_loss: 0.8897 | g_loss: 1.8433\n",
      "Epoch [    6/   30] | d_loss: 0.9973 | g_loss: 3.6242\n",
      "Epoch [    6/   30] | d_loss: 0.2191 | g_loss: 2.0832\n",
      "Epoch [    6/   30] | d_loss: 0.0681 | g_loss: 2.2127\n",
      "Epoch [    6/   30] | d_loss: 0.2332 | g_loss: 2.5616\n",
      "Epoch [    6/   30] | d_loss: 0.3231 | g_loss: 0.9920\n",
      "Epoch [    7/   30] | d_loss: 1.0412 | g_loss: 1.8292\n",
      "Epoch [    7/   30] | d_loss: 0.2946 | g_loss: 1.2665\n",
      "Epoch [    7/   30] | d_loss: 0.5093 | g_loss: 1.3336\n",
      "Epoch [    7/   30] | d_loss: 0.1230 | g_loss: 2.6455\n",
      "Epoch [    7/   30] | d_loss: 0.7640 | g_loss: 2.4937\n",
      "Epoch [    8/   30] | d_loss: 1.8058 | g_loss: 2.2094\n",
      "Epoch [    8/   30] | d_loss: 1.1110 | g_loss: 2.7188\n",
      "Epoch [    8/   30] | d_loss: 0.2278 | g_loss: 0.7179\n",
      "Epoch [    8/   30] | d_loss: 0.5535 | g_loss: 2.7129\n",
      "Epoch [    8/   30] | d_loss: 0.6352 | g_loss: 1.1796\n",
      "Epoch [    9/   30] | d_loss: 0.5170 | g_loss: 1.9865\n",
      "Epoch [    9/   30] | d_loss: 0.9781 | g_loss: 2.9839\n",
      "Epoch [    9/   30] | d_loss: 0.1055 | g_loss: 1.2645\n",
      "Epoch [    9/   30] | d_loss: 0.5841 | g_loss: 1.5887\n",
      "Epoch [    9/   30] | d_loss: 0.6083 | g_loss: 1.9141\n",
      "Epoch [   10/   30] | d_loss: 0.4940 | g_loss: 2.0969\n",
      "Epoch [   10/   30] | d_loss: 0.4825 | g_loss: 1.6187\n",
      "Epoch [   10/   30] | d_loss: 0.5804 | g_loss: 2.1934\n",
      "Epoch [   10/   30] | d_loss: 0.2936 | g_loss: 1.3672\n",
      "Epoch [   10/   30] | d_loss: 0.4489 | g_loss: 1.8678\n",
      "Epoch [   11/   30] | d_loss: 0.5789 | g_loss: 2.7432\n",
      "Epoch [   11/   30] | d_loss: 0.1393 | g_loss: 1.2571\n",
      "Epoch [   11/   30] | d_loss: 0.0412 | g_loss: 1.2315\n",
      "Epoch [   11/   30] | d_loss: 0.4472 | g_loss: 1.6170\n",
      "Epoch [   11/   30] | d_loss: 0.7911 | g_loss: 3.7230\n",
      "Epoch [   12/   30] | d_loss: 0.1317 | g_loss: 3.3602\n",
      "Epoch [   12/   30] | d_loss: 0.2284 | g_loss: 1.7212\n",
      "Epoch [   12/   30] | d_loss: 0.0571 | g_loss: 1.0386\n",
      "Epoch [   12/   30] | d_loss: 0.1272 | g_loss: 1.3914\n",
      "Epoch [   12/   30] | d_loss: 0.3108 | g_loss: 4.4311\n",
      "Epoch [   13/   30] | d_loss: 0.2316 | g_loss: 2.9988\n",
      "Epoch [   13/   30] | d_loss: 0.4629 | g_loss: 0.7988\n",
      "Epoch [   13/   30] | d_loss: 0.5957 | g_loss: 1.1250\n",
      "Epoch [   13/   30] | d_loss: 0.4188 | g_loss: 2.9148\n",
      "Epoch [   13/   30] | d_loss: 0.2403 | g_loss: 3.6142\n",
      "Epoch [   14/   30] | d_loss: 0.0770 | g_loss: 3.2165\n",
      "Epoch [   14/   30] | d_loss: 0.1061 | g_loss: 3.0449\n",
      "Epoch [   14/   30] | d_loss: 0.0404 | g_loss: 3.3556\n",
      "Epoch [   14/   30] | d_loss: 0.7572 | g_loss: 2.3292\n",
      "Epoch [   14/   30] | d_loss: 0.2400 | g_loss: 3.8473\n",
      "Epoch [   15/   30] | d_loss: 0.0474 | g_loss: 4.6605\n",
      "Epoch [   15/   30] | d_loss: 0.7928 | g_loss: 4.1486\n",
      "Epoch [   15/   30] | d_loss: 0.2711 | g_loss: 2.6593\n",
      "Epoch [   15/   30] | d_loss: 0.7742 | g_loss: 1.8420\n",
      "Epoch [   15/   30] | d_loss: 0.4908 | g_loss: 1.8337\n",
      "Epoch [   16/   30] | d_loss: 0.2411 | g_loss: 2.3174\n",
      "Epoch [   16/   30] | d_loss: 0.9689 | g_loss: 0.8367\n",
      "Epoch [   16/   30] | d_loss: 0.3128 | g_loss: 3.0819\n",
      "Epoch [   16/   30] | d_loss: 0.1004 | g_loss: 2.5438\n",
      "Epoch [   16/   30] | d_loss: 0.2133 | g_loss: 3.4271\n",
      "Epoch [   17/   30] | d_loss: 0.1216 | g_loss: 3.7363\n",
      "Epoch [   17/   30] | d_loss: 0.1087 | g_loss: 0.2950\n",
      "Epoch [   17/   30] | d_loss: 0.1007 | g_loss: 3.6251\n",
      "Epoch [   17/   30] | d_loss: 0.0230 | g_loss: 3.2084\n",
      "Epoch [   17/   30] | d_loss: 0.8076 | g_loss: 2.8335\n",
      "Epoch [   18/   30] | d_loss: 0.7030 | g_loss: 4.2843\n",
      "Epoch [   18/   30] | d_loss: 0.3134 | g_loss: 4.2861\n",
      "Epoch [   18/   30] | d_loss: 0.0077 | g_loss: 3.6817\n",
      "Epoch [   18/   30] | d_loss: 0.2281 | g_loss: 5.3303\n",
      "Epoch [   18/   30] | d_loss: 1.3281 | g_loss: 2.7362\n",
      "Epoch [   19/   30] | d_loss: 0.0587 | g_loss: 4.3592\n",
      "Epoch [   19/   30] | d_loss: 0.4449 | g_loss: 2.7040\n",
      "Epoch [   19/   30] | d_loss: 0.4600 | g_loss: 3.0041\n",
      "Epoch [   19/   30] | d_loss: 0.4719 | g_loss: 3.5250\n",
      "Epoch [   19/   30] | d_loss: 0.3302 | g_loss: 2.1501\n",
      "Epoch [   20/   30] | d_loss: 0.0304 | g_loss: 4.7091\n",
      "Epoch [   20/   30] | d_loss: 0.1430 | g_loss: 5.0286\n",
      "Epoch [   20/   30] | d_loss: 0.0393 | g_loss: 3.0519\n",
      "Epoch [   20/   30] | d_loss: 0.0482 | g_loss: 3.0287\n",
      "Epoch [   20/   30] | d_loss: 0.7999 | g_loss: 3.2980\n",
      "Epoch [   21/   30] | d_loss: 0.0194 | g_loss: 4.0416\n",
      "Epoch [   21/   30] | d_loss: 0.1416 | g_loss: 5.8965\n",
      "Epoch [   21/   30] | d_loss: 0.0233 | g_loss: 3.3871\n",
      "Epoch [   21/   30] | d_loss: 0.0680 | g_loss: 5.1697\n",
      "Epoch [   21/   30] | d_loss: 0.6441 | g_loss: 1.5928\n",
      "Epoch [   22/   30] | d_loss: 0.0432 | g_loss: 4.7213\n",
      "Epoch [   22/   30] | d_loss: 0.3224 | g_loss: 3.6577\n",
      "Epoch [   22/   30] | d_loss: 0.0384 | g_loss: 2.0628\n",
      "Epoch [   22/   30] | d_loss: 0.0397 | g_loss: 0.7930\n",
      "Epoch [   22/   30] | d_loss: 0.6020 | g_loss: 4.0165\n",
      "Epoch [   23/   30] | d_loss: 0.0766 | g_loss: 3.9744\n",
      "Epoch [   23/   30] | d_loss: 0.2380 | g_loss: 4.4568\n",
      "Epoch [   23/   30] | d_loss: 0.5021 | g_loss: 1.6989\n",
      "Epoch [   23/   30] | d_loss: 0.1779 | g_loss: 6.1504\n",
      "Epoch [   23/   30] | d_loss: 0.4775 | g_loss: 1.7750\n",
      "Epoch [   24/   30] | d_loss: 0.0024 | g_loss: 5.6794\n",
      "Epoch [   24/   30] | d_loss: 0.0234 | g_loss: 3.3728\n",
      "Epoch [   24/   30] | d_loss: 0.0043 | g_loss: 2.7357\n",
      "Epoch [   24/   30] | d_loss: 0.0340 | g_loss: 0.6149\n",
      "Epoch [   24/   30] | d_loss: 0.7069 | g_loss: 0.8467\n",
      "Epoch [   25/   30] | d_loss: 0.1487 | g_loss: 4.4282\n",
      "Epoch [   25/   30] | d_loss: 0.0684 | g_loss: 3.2647\n",
      "Epoch [   25/   30] | d_loss: 0.0650 | g_loss: 4.3480\n",
      "Epoch [   25/   30] | d_loss: 0.0158 | g_loss: 4.5411\n",
      "Epoch [   25/   30] | d_loss: 0.2600 | g_loss: 2.1002\n",
      "Epoch [   26/   30] | d_loss: 0.0141 | g_loss: 4.0407\n",
      "Epoch [   26/   30] | d_loss: 0.2224 | g_loss: 4.4402\n",
      "Epoch [   26/   30] | d_loss: 0.1629 | g_loss: 5.2912\n",
      "Epoch [   26/   30] | d_loss: 0.0103 | g_loss: 2.6152\n",
      "Epoch [   26/   30] | d_loss: 1.1616 | g_loss: 3.8754\n",
      "Epoch [   27/   30] | d_loss: 0.0399 | g_loss: 6.2796\n",
      "Epoch [   27/   30] | d_loss: 0.0051 | g_loss: 5.5710\n",
      "Epoch [   27/   30] | d_loss: 0.0133 | g_loss: 4.4194\n",
      "Epoch [   27/   30] | d_loss: 0.0530 | g_loss: 4.5281\n",
      "Epoch [   27/   30] | d_loss: 0.3813 | g_loss: 7.9719\n",
      "Epoch [   28/   30] | d_loss: 0.0578 | g_loss: 5.4623\n",
      "Epoch [   28/   30] | d_loss: 0.5751 | g_loss: 4.4992\n",
      "Epoch [   28/   30] | d_loss: 0.0193 | g_loss: 3.1477\n",
      "Epoch [   28/   30] | d_loss: 0.7803 | g_loss: 2.9215\n",
      "Epoch [   28/   30] | d_loss: 0.4793 | g_loss: 4.3697\n",
      "Epoch [   29/   30] | d_loss: 0.0572 | g_loss: 2.0236\n",
      "Epoch [   29/   30] | d_loss: 0.0201 | g_loss: 7.7965\n",
      "Epoch [   29/   30] | d_loss: 0.0997 | g_loss: 4.5865\n",
      "Epoch [   29/   30] | d_loss: 1.6515 | g_loss: 2.5198\n",
      "Epoch [   29/   30] | d_loss: 0.1388 | g_loss: 1.9844\n",
      "Epoch [   30/   30] | d_loss: 0.0150 | g_loss: 3.7990\n",
      "Epoch [   30/   30] | d_loss: 0.0450 | g_loss: 5.7370\n",
      "Epoch [   30/   30] | d_loss: 0.0331 | g_loss: 6.4886\n",
      "Epoch [   30/   30] | d_loss: 0.0203 | g_loss: 2.9268\n",
      "Epoch [   30/   30] | d_loss: 0.2180 | g_loss: 4.9556\n"
     ]
    }
   ],
   "source": [
    "# set number of epochs \n",
    "n_epochs = 30\n",
    "\n",
    "\n",
    "\"\"\"\n",
    "DON'T MODIFY ANYTHING IN THIS CELL\n",
    "\"\"\"\n",
    "# call training function\n",
    "losses = train(D, G, n_epochs=n_epochs)"
   ]
  },
  {
   "cell_type": "markdown",
   "metadata": {
    "collapsed": true
   },
   "source": [
    "## Training loss\n",
    "\n",
    "Plot the training losses for the generator and discriminator, recorded after each epoch."
   ]
  },
  {
   "cell_type": "code",
   "execution_count": 47,
   "metadata": {},
   "outputs": [
    {
     "data": {
      "text/plain": [
       "<matplotlib.legend.Legend at 0x7fe4ca995390>"
      ]
     },
     "execution_count": 47,
     "metadata": {},
     "output_type": "execute_result"
    },
    {
     "data": {
      "image/png": "[encoded data removed]",
      "text/plain": [
       "<matplotlib.figure.Figure at 0x7fe4eb6ee710>"
      ]
     },
     "metadata": {
      "needs_background": "light"
     },
     "output_type": "display_data"
    }
   ],
   "source": [
    "fig, ax = plt.subplots()\n",
    "losses = np.array(losses)\n",
    "plt.plot(losses.T[0], label='Discriminator', alpha=0.5)\n",
    "plt.plot(losses.T[1], label='Generator', alpha=0.5)\n",
    "plt.title(\"Training Losses\")\n",
    "plt.legend()"
   ]
  },
  {
   "cell_type": "markdown",
   "metadata": {
    "collapsed": true
   },
   "source": [
    "## Generator samples from training\n",
    "\n",
    "View samples of images from the generator, and answer a question about the strengths and weaknesses of your trained models."
   ]
  },
  {
   "cell_type": "code",
   "execution_count": 48,
   "metadata": {},
   "outputs": [],
   "source": [
    "# helper function for viewing a list of passed in sample images\n",
    "def view_samples(epoch, samples):\n",
    "    fig, axes = plt.subplots(figsize=(16,4), nrows=2, ncols=8, sharey=True, sharex=True)\n",
    "    for ax, img in zip(axes.flatten(), samples[epoch]):\n",
    "        img = img.detach().cpu().numpy()\n",
    "        img = np.transpose(img, (1, 2, 0))\n",
    "        img = ((img + 1)*255 / (2)).astype(np.uint8)\n",
    "        ax.xaxis.set_visible(False)\n",
    "        ax.yaxis.set_visible(False)\n",
    "        im = ax.imshow(img.reshape((32,32,3)))"
   ]
  },
  {
   "cell_type": "code",
   "execution_count": 49,
   "metadata": {},
   "outputs": [],
   "source": [
    "# Load samples from generator, taken while training\n",
    "with open('train_samples.pkl', 'rb') as f:\n",
    "    samples = pkl.load(f)"
   ]
  },
  {
   "cell_type": "code",
   "execution_count": 50,
   "metadata": {},
   "outputs": [
    {
     "data": {
      "image/png": "[encoded data removed]",
      "text/plain": [
       "<matplotlib.figure.Figure at 0x7fe4ca97a2b0>"
      ]
     },
     "metadata": {
      "needs_background": "light"
     },
     "output_type": "display_data"
    }
   ],
   "source": [
    "_ = view_samples(-1, samples)"
   ]
  },
  {
   "cell_type": "markdown",
   "metadata": {},
   "source": [
    "### Question: What do you notice about your generated samples and how might you improve this model?\n",
    "When you answer this question, consider the following factors:\n",
    "* The dataset is biased; it is made of \"celebrity\" faces that are mostly white\n",
    "* Model size; larger models have the opportunity to learn more features in a data feature space\n",
    "* Optimization strategy; optimizers and number of epochs affect your final result\n"
   ]
  },
  {
   "cell_type": "markdown",
   "metadata": {},
   "source": [
    "**Answer:** (Write your answer in this cell)\n",
    "\n",
    "Two of the faces looks like it hasn't fully been formed. In order to improve this model I would train for 50 epochs but the wokspace goes to sleep before it can be completed. The model would probably have to be made deeper and with larger hidden layers. Optimizer was chosen according to the papers parameters. However, some work could possibly be done in this area. The pictures are also mostly good because the dataset mostly consists of people of caucasian descent. If there was a more varied set of data it would take the generator and discriminator longer to train to get the desired results. "
   ]
  },
  {
   "cell_type": "markdown",
   "metadata": {},
   "source": [
    "### Submitting This Project\n",
    "When submitting this project, make sure to run all the cells before saving the notebook. Save the notebook file as \"dlnd_face_generation.ipynb\" and save it as a HTML file under \"File\" -> \"Download as\". Include the \"problem_unittests.py\" files in your submission."
   ]
  },
  {
   "cell_type": "code",
   "execution_count": null,
   "metadata": {},
   "outputs": [],
   "source": []
  }
 ],
 "metadata": {
  "kernelspec": {
   "display_name": "Python 3",
   "language": "python",
   "name": "python3"
  },
  "language_info": {
   "codemirror_mode": {
    "name": "ipython",
    "version": 3
   },
   "file_extension": ".py",
   "mimetype": "text/x-python",
   "name": "python",
   "nbconvert_exporter": "python",
   "pygments_lexer": "ipython3",
   "version": "3.6.3"
  }
 },
 "nbformat": 4,
 "nbformat_minor": 1
}
